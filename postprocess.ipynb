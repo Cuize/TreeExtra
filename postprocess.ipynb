{
 "cells": [
  {
   "cell_type": "code",
   "execution_count": 39,
   "metadata": {},
   "outputs": [],
   "source": [
    "import pandas as pd\n",
    "import numpy as np\n",
    "trueY=pd.read_csv(\"result/trueY.txt\",header=None)[0]"
   ]
  },
  {
   "cell_type": "code",
   "execution_count": 40,
   "metadata": {},
   "outputs": [],
   "source": [
    "GBFS_mu10_preds=pd.read_csv(\"result/GBFS_mu10_preds.txt\",header=None)[0]"
   ]
  },
  {
   "cell_type": "code",
   "execution_count": 46,
   "metadata": {},
   "outputs": [],
   "source": [
    "BT_preds=pd.read_csv(\"result/BT_preds.txt\",header=None)[0]"
   ]
  },
  {
   "cell_type": "code",
   "execution_count": 48,
   "metadata": {},
   "outputs": [],
   "source": [
    "GBFS_mu50_preds=pd.read_csv(\"result/GBFS_mu50_preds.txt\",header=None)[0]"
   ]
  },
  {
   "cell_type": "code",
   "execution_count": 50,
   "metadata": {},
   "outputs": [],
   "source": [
    "GBFS_mu0_preds=pd.read_csv(\"result/GBFS_mu0_preds.txt\",header=None)[0]"
   ]
  },
  {
   "cell_type": "code",
   "execution_count": 44,
   "metadata": {},
   "outputs": [],
   "source": [
    "from sklearn.metrics import roc_auc_score"
   ]
  },
  {
   "cell_type": "code",
   "execution_count": 45,
   "metadata": {},
   "outputs": [
    {
     "data": {
      "text/plain": [
       "0.9440926565926566"
      ]
     },
     "execution_count": 45,
     "metadata": {},
     "output_type": "execute_result"
    }
   ],
   "source": [
    "roc_auc_score(trueY,GBFS_mu10_preds)"
   ]
  },
  {
   "cell_type": "code",
   "execution_count": 47,
   "metadata": {},
   "outputs": [
    {
     "data": {
      "text/plain": [
       "0.9407748032748033"
      ]
     },
     "execution_count": 47,
     "metadata": {},
     "output_type": "execute_result"
    }
   ],
   "source": [
    "roc_auc_score(trueY,BT_preds)"
   ]
  },
  {
   "cell_type": "code",
   "execution_count": 49,
   "metadata": {},
   "outputs": [
    {
     "data": {
      "text/plain": [
       "0.9382335007335006"
      ]
     },
     "execution_count": 49,
     "metadata": {},
     "output_type": "execute_result"
    }
   ],
   "source": [
    "roc_auc_score(trueY,GBFS_mu50_preds)"
   ]
  },
  {
   "cell_type": "code",
   "execution_count": 51,
   "metadata": {},
   "outputs": [
    {
     "data": {
      "text/plain": [
       "0.9449178449178449"
      ]
     },
     "execution_count": 51,
     "metadata": {},
     "output_type": "execute_result"
    }
   ],
   "source": [
    "roc_auc_score(trueY,GBFS_mu0_preds)"
   ]
  },
  {
   "cell_type": "code",
   "execution_count": 52,
   "metadata": {},
   "outputs": [],
   "source": [
    "from os import listdir\n",
    "from os.path import isfile, join\n",
    "filenames = [f for f in listdir(\"result/\") if isfile(join(\"result/\", f))]"
   ]
  },
  {
   "cell_type": "code",
   "execution_count": 55,
   "metadata": {},
   "outputs": [],
   "source": [
    "AUCs={}\n",
    "for filename in filenames:\n",
    "    stem,ext=filename.split(\".\")\n",
    "    if ext==\"txt\" and stem[-5:]==\"preds\":\n",
    "        preds=pd.read_csv(f\"result/{filename}\",header=None)[0]\n",
    "        AUCs[stem]=roc_auc_score(trueY,preds)\n",
    "\n",
    "\n"
   ]
  },
  {
   "cell_type": "code",
   "execution_count": 57,
   "metadata": {},
   "outputs": [
    {
     "data": {
      "text/plain": [
       "{'GBFSt20_mu1000_preds': 0.9406169281169281,\n",
       " 'GBFSt20_mu200_preds': 0.9389563889563891,\n",
       " 'GBFS_mu1_preds': 0.9454314079314081,\n",
       " 'GBFS_mu200_preds': 0.9403493653493654,\n",
       " 'GBFSt20_mu50_preds': 0.9399706524706525,\n",
       " 'GBFS_mu50_preds': 0.9382335007335006,\n",
       " 'GBFS_mu100_preds': 0.938422725922726,\n",
       " 'GBFSt20_mu10_preds': 0.9415687915687916,\n",
       " 'GBFS_mu1000_preds': 0.9450661575661576,\n",
       " 'GBFS_mu0_preds': 0.9449178449178449,\n",
       " 'GBFS_mu10_preds': 0.9440926565926566,\n",
       " 'BT_preds': 0.9407748032748033,\n",
       " 'GBFSt20_mu10000_preds': 0.9401567651567653,\n",
       " 'GBFSt20_mu1_preds': 0.94253198003198,\n",
       " 'GBFS_mu10000_preds': 0.9443019443019444,\n",
       " 'GBFS_mu500_preds': 0.9383589383589382,\n",
       " 'GBFSt20_mu100_preds': 0.9408739533739533,\n",
       " 'GBFSt20_mu0_preds': 0.9430501180501181,\n",
       " 'GBFSt20_mu500_preds': 0.9347014847014848,\n",
       " 'BTt20_preds': 0.937510125010125}"
      ]
     },
     "execution_count": 57,
     "metadata": {},
     "output_type": "execute_result"
    }
   ],
   "source": [
    "AUCs"
   ]
  },
  {
   "cell_type": "code",
   "execution_count": null,
   "metadata": {},
   "outputs": [],
   "source": []
  },
  {
   "cell_type": "code",
   "execution_count": null,
   "metadata": {},
   "outputs": [],
   "source": []
  },
  {
   "cell_type": "code",
   "execution_count": 4,
   "metadata": {},
   "outputs": [],
   "source": [
    "from os import listdir\n",
    "from os.path import isfile, join\n",
    "import pandas as pd\n",
    "import numpy as np\n"
   ]
  },
  {
   "cell_type": "code",
   "execution_count": 1,
   "metadata": {},
   "outputs": [
    {
     "ename": "NameError",
     "evalue": "name 'listdir' is not defined",
     "output_type": "error",
     "traceback": [
      "\u001b[0;31m---------------------------------------------------------------------------\u001b[0m",
      "\u001b[0;31mNameError\u001b[0m                                 Traceback (most recent call last)",
      "\u001b[0;32m<ipython-input-1-aed91e4ebdce>\u001b[0m in \u001b[0;36m<module>\u001b[0;34m()\u001b[0m\n\u001b[0;32m----> 1\u001b[0;31m \u001b[0mlistdir\u001b[0m\u001b[0;34m(\u001b[0m\u001b[0;34m)\u001b[0m\u001b[0;34m\u001b[0m\u001b[0m\n\u001b[0m",
      "\u001b[0;31mNameError\u001b[0m: name 'listdir' is not defined"
     ]
    }
   ],
   "source": [
    "filenames_ = [f for f in listdir(\"result/\") if isfile(join(\"result/\", f))]"
   ]
  },
  {
   "cell_type": "code",
   "execution_count": 29,
   "metadata": {},
   "outputs": [],
   "source": [
    "top_default=20"
   ]
  },
  {
   "cell_type": "code",
   "execution_count": 12,
   "metadata": {},
   "outputs": [],
   "source": [
    "topks=pd.read_csv(\"topk.txt\",header=None)[0]"
   ]
  },
  {
   "cell_type": "code",
   "execution_count": 32,
   "metadata": {},
   "outputs": [],
   "source": [
    "result_path='result_gold_test_in_qa_split/'\n",
    "aux_path='aux_result_gold_test_in_qa_split/'"
   ]
  },
  {
   "cell_type": "code",
   "execution_count": 33,
   "metadata": {},
   "outputs": [],
   "source": [
    "filenames_result=listdir(result_path)\n",
    "filenames_aux=listdir(aux_path)"
   ]
  },
  {
   "cell_type": "code",
   "execution_count": 35,
   "metadata": {},
   "outputs": [],
   "source": [
    "trueY=pd.read_csv(result_path+\"trueY.txt\",header=None)[0]"
   ]
  },
  {
   "cell_type": "code",
   "execution_count": 40,
   "metadata": {},
   "outputs": [
    {
     "data": {
      "text/plain": [
       "['GBDTt65_preds.txt',\n",
       " 'BTt50.bin',\n",
       " 'BTt55_preds.txt',\n",
       " 'boosting_rms_GBDTt35.txt',\n",
       " 'gold_train_in_qa_split_with_vsims_BTt50.attr',\n",
       " 'gold_train_in_qa_split_with_vsims_BTt35.attr',\n",
       " 'boosting_rms_GBDTt30.txt',\n",
       " 'gold_test_in_qa_split.dta',\n",
       " 'gold_train_in_qa_split_with_vsims_BTt55.attr',\n",
       " 'bagging_rms_BTt25.txt',\n",
       " 'BTt25.bin',\n",
       " 'trueY.txt',\n",
       " 'GBDTt60_preds.txt',\n",
       " 'BTt60_preds.txt',\n",
       " 'preprocess_unused.txt',\n",
       " 'gold_train_in_qa_split_with_vsims_BTt25.attr',\n",
       " 'bagging_rms_BTt40.txt',\n",
       " 'gold_train_in_qa_split_with_vsims_BTt60.attr',\n",
       " 'bagging_rms_BTt35.txt',\n",
       " 'gold_train_in_qa_split_with_vsims.dta',\n",
       " 'gold_train_in_qa_split_with_vsims_GBDTt65.attr',\n",
       " 'BTt35_preds.txt',\n",
       " 'nohup1.out',\n",
       " 'gold_train_in_qa_split_with_vsims_GBDTt25.attr',\n",
       " 'boosting_rms_GBDTt60.txt',\n",
       " 'GBDTt25_preds.txt',\n",
       " 'gold_train_in_qa_split_with_vsims.attr',\n",
       " 'BTt30.bin',\n",
       " 'gold_train_in_qa_split_with_vsims_GBDTt30.attr',\n",
       " 'bagging_rms_BTt60.txt',\n",
       " 'boosting_rms_GBDTt50.txt',\n",
       " 'gold_train_in_qa_split_with_vsims_GBDTt60.attr',\n",
       " 'bagging_rms_BTt50.txt',\n",
       " 'BTt30_preds.txt',\n",
       " 'BTt40_preds.txt',\n",
       " 'bagging_rms_BTt30.txt',\n",
       " 'gold_train_in_qa_split_with_vsims_BTt65.attr',\n",
       " 'GBDTt55_preds.txt',\n",
       " 'BTt25_preds.txt',\n",
       " 'BTt45.bin',\n",
       " 'boosting_rms_GBDTt25.txt',\n",
       " 'gold_train_in_qa_split_with_vsims_BTt40.attr',\n",
       " 'BTt65.bin',\n",
       " 'BTt45_preds.txt',\n",
       " 'bagging_rms_BTt55.txt',\n",
       " 'bagging_rms_BTt45.txt',\n",
       " 'gold_train_in_qa_split_with_vsims_GBDTt40.attr',\n",
       " 'bagging_rms_BTt65.txt',\n",
       " 'GBDTt30_preds.txt',\n",
       " 'boosting_rms_GBDTt55.txt',\n",
       " 'BTt65_preds.txt',\n",
       " 'BTt35.bin',\n",
       " 'GBDTt40_preds.txt',\n",
       " 'GBDTt45_preds.txt',\n",
       " 'boosting_rms_GBDTt65.txt',\n",
       " 'BTt55.bin',\n",
       " 'gold_train_in_qa_split_with_vsims_GBDTt50.attr',\n",
       " 'BTt40.bin',\n",
       " 'gold_train_in_qa_split_with_vsims_BTt30.attr',\n",
       " 'BTt60.bin',\n",
       " 'GBDTt35_preds.txt',\n",
       " 'BTt50_preds.txt',\n",
       " 'gold_train_in_qa_split_with_vsims_GBDTt55.attr',\n",
       " 'gold_train_in_qa_split_with_vsims_GBDTt35.attr',\n",
       " 'gold_train_in_qa_split_with_vsims_GBDTt45.attr',\n",
       " 'gold_train_in_qa_split_with_vsims_BTt45.attr',\n",
       " 'boosting_rms_GBDTt40.txt',\n",
       " 'GBDTt50_preds.txt',\n",
       " 'boosting_rms_GBDTt45.txt']"
      ]
     },
     "execution_count": 40,
     "metadata": {},
     "output_type": "execute_result"
    }
   ],
   "source": [
    "filenames_aux"
   ]
  },
  {
   "cell_type": "code",
   "execution_count": 34,
   "metadata": {},
   "outputs": [
    {
     "data": {
      "text/plain": [
       "['gold_train_in_qa_split_with_vsims_GBFS_mu400.attr',\n",
       " 'feature_scores_BTt20.txt',\n",
       " 'log_GBFS_mu2.txt',\n",
       " 'GBFS_mu12_preds.txt',\n",
       " 'gold_train_in_qa_split_with_vsims_GBFS_mu120.attr',\n",
       " 'gold_train_in_qa_split_with_vsims_GBFS_mu5000.attr',\n",
       " 'log_GBFS_mu1.txt',\n",
       " 'GBFSt20_mu360_preds.txt',\n",
       " 'GBFS_mu16_preds.txt',\n",
       " 'boosting_rms_GBFSt20_mu50000.txt',\n",
       " 'log_GBFS_mu180.txt',\n",
       " 'log_GBFS_mu0.txt',\n",
       " 'GBFSt20_mu20_preds.txt',\n",
       " 'gold_train_in_qa_split_with_vsims_GBFS_mu200.attr',\n",
       " 'GBFS_mu340_preds.txt',\n",
       " 'boosting_rms_GBFSt20_mu10.5.txt',\n",
       " 'boosting_rms_GBFS_mu60.txt',\n",
       " 'boosting_rms_GBFS_mu480.txt',\n",
       " 'boosting_rms_GBFSt20_mu7.txt',\n",
       " 'boosting_rms_GBFS_mu12.txt',\n",
       " 'log_GBFS_mu560.txt',\n",
       " 'GBFS_mu7_preds.txt',\n",
       " 'log_GBFSt20_mu8.txt',\n",
       " 'boosting_rms_GBFS_mu3.txt',\n",
       " 'gold_train_in_qa_split_with_vsims_GBFS_mu70.attr',\n",
       " 'GBFS_mu5_preds.txt',\n",
       " 'feature_scores_GBFSt20_mu160.txt',\n",
       " 'GBFSt20_mu1000_preds.txt',\n",
       " 'boosting_rms_GBFSt20_mu460.txt',\n",
       " 'log_GBFS_mu420.txt',\n",
       " 'boosting_rms_GBFSt20_mu15.txt',\n",
       " 'GBFS_mu11_preds.txt',\n",
       " 'log_GBFSt20_mu40.txt',\n",
       " 'log_GBFS_mu19.txt',\n",
       " 'GBFS_mu120_preds.txt',\n",
       " 'boosting_rms_GBFS_mu300.txt',\n",
       " 'feature_scores_GBFSt20_mu200.txt',\n",
       " 'feature_scores_GBFSt20_mu70.txt',\n",
       " 'gold_train_in_qa_split_with_vsims_GBFS_mu10.attr',\n",
       " 'GBFS_mu800_preds.txt',\n",
       " 'feature_scores_GBFS_mu440.txt',\n",
       " 'log_GBFSt20_mu9.txt',\n",
       " 'GBFSt20_mu200_preds.txt',\n",
       " 'GBFSt20_mu240_preds.txt',\n",
       " 'boosting_rms_GBFSt20_mu50.txt',\n",
       " 'gold_train_in_qa_split_with_vsims_GBFS_mu5.attr',\n",
       " 'GBFSt20_mu5000_preds.txt',\n",
       " 'GBFSt20_mu560_preds.txt',\n",
       " 'gold_train_in_qa_split_with_vsims_GBFS_mu40.attr',\n",
       " 'feature_scores_GBFSt20_mu14.txt',\n",
       " 'boosting_rms_GBFS_mu90.txt',\n",
       " 'gold_train_in_qa_split_with_vsims_GBFS_mu19.attr',\n",
       " 'gold_train_in_qa_split_with_vsims_GBFS_mu50000.attr',\n",
       " 'feature_scores_GBFSt20_mu7.txt',\n",
       " 'boosting_rms_GBFS_mu0.txt',\n",
       " 'gold_train_in_qa_split_with_vsims_GBFS_mu17.attr',\n",
       " 'boosting_rms_GBFSt20_mu220.txt',\n",
       " 'log_GBFS_mu800.txt',\n",
       " 'boosting_rms_GBFSt20_mu560.txt',\n",
       " 'GBFSt20_mu80_preds.txt',\n",
       " 'boosting_rms_GBFS_mu14.txt',\n",
       " 'gold_train_in_qa_split_with_vsims_GBFS_mu14.attr',\n",
       " 'BT.bin',\n",
       " 'gold_train_in_qa_split_with_vsims_GBFS_mu1.attr',\n",
       " 'boosting_rms_GBFSt20_mu1.5.txt',\n",
       " 'feature_scores_GBFS_mu10.5.txt',\n",
       " 'gold_train_in_qa_split_with_vsims_GBFS_mu160.attr',\n",
       " 'feature_scores_GBFSt20_mu340.txt',\n",
       " 'GBFSt20_mu520_preds.txt',\n",
       " 'log_GBFS_mu1000.txt',\n",
       " 'gold_train_in_qa_split_with_vsims_GBFS_mu30.attr',\n",
       " 'boosting_rms_GBFSt20_mu380.txt',\n",
       " 'boosting_rms_GBFS_mu540.txt',\n",
       " 'boosting_rms_GBFS_mu6.txt',\n",
       " 'GBFSt20_mu280_preds.txt',\n",
       " 'GBFS_mu19_preds.txt',\n",
       " 'boosting_rms_GBFS_mu500.txt',\n",
       " 'log_GBFSt20_mu560.txt',\n",
       " 'feature_scores_GBFS_mu80.txt',\n",
       " 'gold_test_in_qa_split.dta',\n",
       " 'feature_scores_GBFSt20_mu15.txt',\n",
       " 'log_GBFS_mu520.txt',\n",
       " 'GBFSt20_mu4_preds.txt',\n",
       " 'boosting_rms_GBFSt20_mu70.txt',\n",
       " 'GBFS_mu10.5_preds.txt',\n",
       " 'gold_train_in_qa_split_with_vsims_GBFS_mu10.5.attr',\n",
       " 'gold_train_in_qa_split_with_vsims_GBFS_mu16.attr',\n",
       " 'GBFSt20_mu600_preds.txt',\n",
       " 'boosting_rms_GBFS_mu1000.txt',\n",
       " 'boosting_rms_GBFS_mu340.txt',\n",
       " 'feature_scores_GBFSt20_mu500.txt',\n",
       " 'log_GBFS_mu17.txt',\n",
       " 'gold_train_in_qa_split_with_vsims_GBFS_mu140.attr',\n",
       " 'GBFS_mu1_preds.txt',\n",
       " 'feature_scores_GBFSt20_mu80.txt',\n",
       " 'GBFS_mu200_preds.txt',\n",
       " 'feature_scores_GBFS_mu50.txt',\n",
       " 'GBFS_mu90_preds.txt',\n",
       " 'feature_scores_GBFS_mu260.txt',\n",
       " 'feature_scores_GBFSt20_mu0.5.txt',\n",
       " 'feature_scores_GBFS_mu540.txt',\n",
       " 'log_GBFSt20_mu17.txt',\n",
       " 'boosting_rms_GBFSt20_mu440.txt',\n",
       " 'trueY.txt',\n",
       " 'feature_scores_GBFS_mu18.txt',\n",
       " 'GBFS_mu320_preds.txt',\n",
       " 'feature_scores_GBFS_mu16.txt',\n",
       " 'GBFSt20_mu140_preds.txt',\n",
       " 'preprocess_unused.txt',\n",
       " 'boosting_rms_GBFS_mu50000.txt',\n",
       " 'feature_scores_GBFSt20_mu5.txt',\n",
       " 'log_GBFSt20_mu1000.txt',\n",
       " 'GBFS_mu3_preds.txt',\n",
       " 'gold_train_in_qa_split_with_vsims_GBFS_mu420.attr',\n",
       " 'feature_scores_GBFS_mu0.txt',\n",
       " 'GBFS_mu1.5_preds.txt',\n",
       " 'boosting_rms_GBFSt20_mu160.txt',\n",
       " 'GBFSt20_mu160_preds.txt',\n",
       " 'log_GBFSt20_mu400.txt',\n",
       " 'gold_train_in_qa_split_with_vsims_GBFS_mu260.attr',\n",
       " 'feature_scores_GBFSt20_mu13.txt',\n",
       " 'boosting_rms_GBFS_mu13.txt',\n",
       " 'log_GBFS_mu30.txt',\n",
       " 'GBFS_mu2.5_preds.txt',\n",
       " 'feature_scores_GBFSt20_mu240.txt',\n",
       " 'log_GBFSt20_mu200.txt',\n",
       " 'GBFSt20_mu400_preds.txt',\n",
       " 'feature_scores_GBFSt20_mu320.txt',\n",
       " 'mus0.txt',\n",
       " 'feature_scores_GBFS_mu500.txt',\n",
       " 'GBFS_mu5000_preds.txt',\n",
       " 'feature_scores_GBFS_mu15.txt',\n",
       " 'GBFS_mu50000_preds.txt',\n",
       " 'feature_scores_GBFS_mu180.txt',\n",
       " 'boosting_rms_GBFSt20_mu280.txt',\n",
       " 'GBFSt20_mu50_preds.txt',\n",
       " 'gold_train_in_qa_split_with_vsims.dta',\n",
       " 'boosting_rms_GBFSt20_mu19.txt',\n",
       " 'boosting_rms_GBFSt20_mu800.txt',\n",
       " 'log_GBFS_mu580.txt',\n",
       " 'feature_scores_GBFS_mu200.txt',\n",
       " 'GBFS_mu50_preds.txt',\n",
       " 'log_GBFSt20_mu60.txt',\n",
       " 'feature_scores_GBFS_mu1.txt',\n",
       " 'feature_scores_GBFSt20_mu520.txt',\n",
       " 'feature_scores_GBFSt20_mu11.txt',\n",
       " 'feature_scores_GBFS_mu7.txt',\n",
       " 'boosting_rms_GBFSt20_mu240.txt',\n",
       " 'boosting_rms_GBFS_mu0.5.txt',\n",
       " 'GBFSt20_mu90_preds.txt',\n",
       " 'GBFSt20_mu18_preds.txt',\n",
       " 'gold_train_in_qa_split_with_vsims_GBFS_mu11.attr',\n",
       " 'feature_scores_GBFSt20_mu600.txt',\n",
       " 'feature_scores_GBFSt20_mu10.txt',\n",
       " 'GBFS_mu540_preds.txt',\n",
       " 'nohup1.out',\n",
       " 'feature_scores_GBFS_mu280.txt',\n",
       " 'log_GBFS_mu160.txt',\n",
       " 'feature_scores_GBFS_mu5.txt',\n",
       " 'log_GBFSt20_mu20.txt',\n",
       " 'log_GBFSt20_mu0.txt',\n",
       " 'boosting_rms_GBFS_mu30.txt',\n",
       " 'GBFSt20_mu540_preds.txt',\n",
       " 'log_GBFSt20_mu1.txt',\n",
       " 'GBFS_mu100_preds.txt',\n",
       " 'GBFS_mu70_preds.txt',\n",
       " 'GBFSt20_mu10_preds.txt',\n",
       " 'log_GBFSt20_mu10.5.txt',\n",
       " 'boosting_rms_GBFS_mu7.txt',\n",
       " 'boosting_rms_GBFSt20_mu14.txt',\n",
       " 'GBFSt20_mu320_preds.txt',\n",
       " 'gold_train_in_qa_split_with_vsims_GBFS_mu20.attr',\n",
       " 'boosting_rms_GBFSt20_mu30.txt',\n",
       " 'gold_train_in_qa_split_with_vsims.attr',\n",
       " 'feature_scores_GBFSt20_mu18.txt',\n",
       " 'gold_train_in_qa_split_with_vsims_GBFS_mu2.attr',\n",
       " 'log_GBFS_mu140.txt',\n",
       " 'log_GBFS_mu16.txt',\n",
       " 'GBFS_mu1000_preds.txt',\n",
       " 'log_GBFSt20_mu70.txt',\n",
       " 'feature_scores_GBFSt20_mu50.txt',\n",
       " 'feature_scores_GBFS_mu120.txt',\n",
       " 'log_GBFS_mu320.txt',\n",
       " 'log_GBFSt20_mu480.txt',\n",
       " 'GBFS_mu0_preds.txt',\n",
       " 'feature_scores_GBFS_mu90.txt',\n",
       " 'feature_scores_GBFS_mu13.txt',\n",
       " 'feature_scores_GBFS_mu480.txt',\n",
       " 'GBFS_mu9_preds.txt',\n",
       " 'feature_scores_GBFSt20_mu800.txt',\n",
       " 'feature_scores_GBFS_mu520.txt',\n",
       " 'log_GBFSt20_mu340.txt',\n",
       " 'log_GBFSt20_mu18.txt',\n",
       " 'boosting_rms_GBFSt20_mu13.txt',\n",
       " 'feature_scores_GBFSt20_mu260.txt',\n",
       " 'feature_scores_GBFSt20_mu580.txt',\n",
       " 'log_GBFSt20_mu15.txt',\n",
       " 'gold_train_in_qa_split_with_vsims_GBFS_mu560.attr',\n",
       " 'GBFS_mu360_preds.txt',\n",
       " 'feature_scores_GBFSt20_mu540.txt',\n",
       " 'boosting_rms_GBFS_mu80.txt',\n",
       " 'feature_scores_GBFS_mu19.txt',\n",
       " 'GBFSt20_mu3_preds.txt',\n",
       " 'log_GBFSt20_mu440.txt',\n",
       " 'gold_train_in_qa_split_with_vsims_GBFS_mu50.attr',\n",
       " 'log_GBFS_mu280.txt',\n",
       " 'feature_scores_GBFS_mu11.txt',\n",
       " 'feature_scores_GBFSt20_mu17.txt',\n",
       " 'GBFS_mu580_preds.txt',\n",
       " 'boosting_rms_GBFSt20_mu5.txt',\n",
       " 'log_GBFS_mu20.txt',\n",
       " 'GBFSt20_mu5_preds.txt',\n",
       " 'log_GBFS_mu6.txt',\n",
       " 'GBFSt20_mu580_preds.txt',\n",
       " 'log_GBFSt20_mu13.txt',\n",
       " 'log_GBFSt20_mu300.txt',\n",
       " 'gold_train_in_qa_split_with_vsims_GBFS_mu0.attr',\n",
       " 'log_GBFSt20_mu420.txt',\n",
       " 'boosting_rms_GBFSt20_mu18.txt',\n",
       " 'boosting_rms_GBFS_mu520.txt',\n",
       " 'gold_train_in_qa_split_with_vsims_GBFS_mu80.attr',\n",
       " 'boosting_rms_GBFS_mu600.txt',\n",
       " 'boosting_rms_GBFSt20_mu10.txt',\n",
       " 'gold_train_in_qa_split_with_vsims_GBFS_mu4.attr',\n",
       " 'boosting_rms_GBFSt20_mu0.5.txt',\n",
       " 'gold_train_in_qa_split_with_vsims_GBFS_mu60.attr',\n",
       " 'boosting_rms_GBFSt20_mu260.txt',\n",
       " 'boosting_rms_GBFS_mu5000.txt',\n",
       " 'feature_scores_GBFS_mu6.txt',\n",
       " 'feature_scores_GBFS_mu4.txt',\n",
       " 'GBFS_mu240_preds.txt',\n",
       " 'log_GBFS_mu340.txt',\n",
       " 'boosting_rms_GBFSt20_mu10000.txt',\n",
       " 'GBFS_mu10_preds.txt',\n",
       " 'boosting_rms_GBFSt20_mu320.txt',\n",
       " 'boosting_rms_GBFS_mu10.txt',\n",
       " 'boosting_rms_GBFS_mu160.txt',\n",
       " 'boosting_rms_GBFS_mu70.txt',\n",
       " 'log_GBFSt20_mu0.5.txt',\n",
       " 'log_GBFSt20_mu800.txt',\n",
       " 'boosting_rms_GBFS_mu17.txt',\n",
       " 'feature_scores_GBFSt20_mu1.5.txt',\n",
       " 'log_GBFS_mu11.txt',\n",
       " 'BT_preds.txt',\n",
       " 'feature_scores_GBFS_mu20.txt',\n",
       " 'GBFS_mu18_preds.txt',\n",
       " 'gold_train_in_qa_split_with_vsims_GBFS_mu320.attr',\n",
       " 'feature_scores_GBFSt20_mu1.txt',\n",
       " 'log_GBFSt20_mu460.txt',\n",
       " 'log_GBFS_mu70.txt',\n",
       " 'log_GBFSt20_mu14.txt',\n",
       " 'GBFSt20_mu220_preds.txt',\n",
       " 'boosting_rms_GBFS_mu2.txt',\n",
       " 'gold_train_in_qa_split_with_vsims_GBFS_mu0.5.attr',\n",
       " 'boosting_rms_GBFSt20_mu2.5.txt',\n",
       " 'boosting_rms_GBFS_mu10.5.txt',\n",
       " 'log_GBFSt20_mu12.txt',\n",
       " 'gold_train_in_qa_split_with_vsims_GBFS_mu540.attr',\n",
       " 'log_GBFS_mu10000.txt',\n",
       " 'GBFS_mu0.5_preds.txt',\n",
       " 'log_GBFS_mu10.txt',\n",
       " 'log_GBFSt20_mu100.txt',\n",
       " 'GBFSt20_mu10000_preds.txt',\n",
       " 'log_GBFS_mu600.txt',\n",
       " 'feature_scores_GBFS_mu50000.txt',\n",
       " 'feature_scores_GBFS_mu240.txt',\n",
       " 'feature_scores_GBFSt20_mu400.txt',\n",
       " 'boosting_rms_GBFSt20_mu520.txt',\n",
       " 'boosting_rms_GBFS_mu400.txt',\n",
       " 'feature_scores_GBFSt20_mu8.txt',\n",
       " 'log_GBFSt20_mu180.txt',\n",
       " 'log_GBFSt20_mu320.txt',\n",
       " 'feature_scores_GBFS_mu14.txt',\n",
       " 'gold_train_in_qa_split_with_vsims_GBFS_mu240.attr',\n",
       " 'feature_scores_GBFSt20_mu380.txt',\n",
       " 'boosting_rms_GBFSt20_mu16.txt',\n",
       " 'feature_scores_GBFSt20_mu460.txt',\n",
       " 'feature_scores_GBFSt20_mu20.txt',\n",
       " 'boosting_rms_GBFS_mu560.txt',\n",
       " 'log_GBFS_mu480.txt',\n",
       " 'feature_scores_GBFS_mu220.txt',\n",
       " 'log_GBFS_mu15.txt',\n",
       " 'gold_train_in_qa_split_with_vsims_GBFS_mu800.attr',\n",
       " 'feature_scores_GBFSt20_mu60.txt',\n",
       " 'boosting_rms_GBFS_mu19.txt',\n",
       " 'log_GBFSt20_mu220.txt',\n",
       " 'gold_train_in_qa_split_with_vsims_GBFS_mu9.attr',\n",
       " 'log_GBFS_mu10.5.txt',\n",
       " 'GBFSt20_mu19_preds.txt',\n",
       " 'GBFSt20_mu340_preds.txt',\n",
       " 'boosting_rms_GBFSt20_mu600.txt',\n",
       " 'log_GBFS_mu80.txt',\n",
       " 'GBFS_mu480_preds.txt',\n",
       " 'boosting_rms_GBFSt20_mu200.txt',\n",
       " 'log_GBFS_mu50.txt',\n",
       " 'GBFSt20_mu1_preds.txt',\n",
       " 'gold_train_in_qa_split_with_vsims_GBFS_mu580.attr',\n",
       " 'feature_scores_GBFS_mu800.txt',\n",
       " 'gold_train_in_qa_split_with_vsims_GBFS_mu180.attr',\n",
       " 'log_GBFS_mu13.txt',\n",
       " 'feature_scores_GBFSt20_mu1000.txt',\n",
       " 'feature_scores_GBFS_mu140.txt',\n",
       " 'gold_train_in_qa_split_with_vsims_GBFS_mu360.attr',\n",
       " 'gold_train_in_qa_split_with_vsims_GBFS_mu12.attr',\n",
       " 'log_GBFS_mu500.txt',\n",
       " 'feature_scores_GBFS_mu40.txt',\n",
       " 'log_GBFSt20_mu80.txt',\n",
       " 'boosting_rms_GBFSt20_mu1.txt',\n",
       " 'GBFSt20_mu2.5_preds.txt',\n",
       " 'feature_scores_GBFS_mu17.txt',\n",
       " 'log_GBFSt20_mu1.5.txt',\n",
       " 'GBFSt20_mu50000_preds.txt',\n",
       " 'nohup2.out',\n",
       " 'boosting_rms_GBFSt20_mu400.txt',\n",
       " 'boosting_rms_GBFSt20_mu3.txt',\n",
       " 'GBFSt20_mu15_preds.txt',\n",
       " 'log_GBFS_mu40.txt',\n",
       " 'boosting_rms_GBFSt20_mu1000.txt',\n",
       " 'GBFS_mu17_preds.txt',\n",
       " 'feature_scores_GBFSt20_mu280.txt',\n",
       " 'log_GBFSt20_mu10000.txt',\n",
       " 'GBFSt20_mu7_preds.txt',\n",
       " 'feature_scores_GBFSt20_mu180.txt',\n",
       " 'GBFS_mu40_preds.txt',\n",
       " 'boosting_rms_GBFSt20_mu9.txt',\n",
       " 'GBFS_mu13_preds.txt',\n",
       " 'GBFSt20_mu440_preds.txt',\n",
       " 'feature_scores_GBFSt20_mu5000.txt',\n",
       " 'boosting_rms_GBFS_mu10000.txt',\n",
       " 'feature_scores_GBFSt20_mu560.txt',\n",
       " 'feature_scores_GBFSt20_mu6.txt',\n",
       " 'gold_train_in_qa_split_with_vsims_GBFS_mu380.attr',\n",
       " 'boosting_rms_GBFSt20_mu20.txt',\n",
       " 'GBFS_mu400_preds.txt',\n",
       " 'GBFS_mu440_preds.txt',\n",
       " 'log_GBFS_mu14.txt',\n",
       " 'boosting_rms_GBFSt20_mu40.txt',\n",
       " 'boosting_rms_GBFSt20_mu0.txt',\n",
       " 'boosting_rms_GBFSt20_mu5000.txt',\n",
       " 'gold_train_in_qa_split_with_vsims_GBFS_mu15.attr',\n",
       " 'boosting_rms_GBFS_mu20.txt',\n",
       " 'feature_scores_GBFSt20_mu50000.txt',\n",
       " 'feature_scores_GBFS_mu70.txt',\n",
       " 'feature_scores_GBFSt20_mu16.txt',\n",
       " 'gold_train_in_qa_split_with_vsims_GBFS_mu520.attr',\n",
       " 'feature_scores_GBFSt20_mu3.txt',\n",
       " 'GBFS_mu20_preds.txt',\n",
       " 'gold_train_in_qa_split_with_vsims_GBFS_mu90.attr',\n",
       " 'gold_train_in_qa_split_with_vsims_GBFS_mu6.attr',\n",
       " 'log_GBFS_mu5000.txt',\n",
       " 'GBFSt20_mu8_preds.txt',\n",
       " 'feature_scores_GBFS_mu30.txt',\n",
       " 'GBFSt20_mu0.5_preds.txt',\n",
       " 'log_GBFSt20_mu30.txt',\n",
       " 'boosting_rms_GBFSt20_mu4.txt',\n",
       " 'log_GBFSt20_mu5.txt',\n",
       " 'GBFSt20_mu60_preds.txt',\n",
       " 'boosting_rms_GBFSt20_mu100.txt',\n",
       " 'boosting_rms_GBFS_mu18.txt',\n",
       " 'feature_scores_GBFSt20_mu90.txt',\n",
       " 'GBFS_mu460_preds.txt',\n",
       " 'GBFS_mu6_preds.txt',\n",
       " 'log_GBFS_mu60.txt',\n",
       " 'feature_scores_GBFS_mu3.txt',\n",
       " 'feature_scores_GBFSt20_mu4.txt',\n",
       " 'log_GBFS_mu7.txt',\n",
       " 'log_GBFSt20_mu160.txt',\n",
       " 'feature_scores_GBFSt20_mu360.txt',\n",
       " 'GBFS_mu80_preds.txt',\n",
       " 'log_GBFS_mu380.txt',\n",
       " 'feature_scores_GBFSt20_mu140.txt',\n",
       " 'log_GBFSt20_mu120.txt',\n",
       " 'boosting_rms_GBFS_mu800.txt',\n",
       " 'log_GBFS_mu3.txt',\n",
       " 'GBFS_mu10000_preds.txt',\n",
       " 'log_GBFS_mu0.5.txt',\n",
       " 'GBFSt20_mu1.5_preds.txt',\n",
       " 'gold_train_in_qa_split_with_vsims_GBFS_mu1000.attr',\n",
       " 'feature_scores_GBFS_mu400.txt',\n",
       " 'GBFSt20_mu9_preds.txt',\n",
       " 'log_GBFS_mu4.txt',\n",
       " 'boosting_rms_GBFS_mu11.txt',\n",
       " 'log_GBFSt20_mu5000.txt',\n",
       " 'log_GBFS_mu8.txt',\n",
       " 'boosting_rms_GBFSt20_mu580.txt',\n",
       " 'feature_scores_GBFS_mu560.txt',\n",
       " 'GBFSt20_mu11_preds.txt',\n",
       " 'feature_scores_GBFS_mu8.txt',\n",
       " 'log_GBFSt20_mu260.txt',\n",
       " 'log_GBFSt20_mu500.txt',\n",
       " 'feature_scores_GBFSt20_mu440.txt',\n",
       " 'boosting_rms_GBFSt20_mu300.txt',\n",
       " 'boosting_rms_GBFS_mu140.txt',\n",
       " 'log_GBFS_mu120.txt',\n",
       " 'log_GBFS_mu400.txt',\n",
       " 'boosting_rms_GBFSt20_mu360.txt',\n",
       " 'feature_scores_GBFS_mu5000.txt',\n",
       " 'gold_train_in_qa_split_with_vsims_GBFS_mu18.attr',\n",
       " 'gold_train_in_qa_split_with_vsims_GBFS_mu7.attr',\n",
       " 'log_GBFSt20_mu7.txt',\n",
       " 'mus1.txt',\n",
       " 'feature_scores_GBFS_mu100.txt',\n",
       " 'log_GBFSt20_mu520.txt',\n",
       " 'log_GBFS_mu300.txt',\n",
       " 'gold_train_in_qa_split_with_vsims_GBFS_mu1.5.attr',\n",
       " 'gold_train_in_qa_split_with_vsims_GBFS_mu8.attr',\n",
       " 'log_GBFS_mu360.txt',\n",
       " 'boosting_rms_GBFS_mu180.txt',\n",
       " 'GBFS_mu500_preds.txt',\n",
       " 'GBFSt20_mu30_preds.txt',\n",
       " 'log_GBFS_mu260.txt',\n",
       " 'boosting_rms_GBFS_mu9.txt',\n",
       " 'feature_scores_GBFS_mu580.txt',\n",
       " 'boosting_rms_GBFS_mu200.txt',\n",
       " 'boosting_rms_GBFSt20_mu11.txt',\n",
       " 'log_GBFS_mu50000.txt',\n",
       " 'boosting_rms_GBFSt20_mu60.txt',\n",
       " 'log_GBFSt20_mu2.5.txt',\n",
       " 'GBFSt20_mu480_preds.txt',\n",
       " 'log_GBFS_mu220.txt',\n",
       " 'feature_scores_GBFS_mu0.5.txt',\n",
       " 'feature_scores_GBFSt20_mu420.txt',\n",
       " 'log_GBFS_mu460.txt',\n",
       " 'GBFSt20_mu100_preds.txt',\n",
       " 'GBFS_mu15_preds.txt',\n",
       " 'boosting_rms_GBFS_mu260.txt',\n",
       " 'log_GBFS_mu440.txt',\n",
       " 'GBFS_mu60_preds.txt',\n",
       " 'GBFS_mu280_preds.txt',\n",
       " 'feature_scores_GBFS_mu10.txt',\n",
       " 'feature_scores_GBFS_mu2.5.txt',\n",
       " 'log_GBFSt20_mu140.txt',\n",
       " 'GBFSt20_mu180_preds.txt',\n",
       " 'boosting_rms_GBFSt20_mu420.txt',\n",
       " 'GBFSt20_mu13_preds.txt',\n",
       " 'log_GBFSt20_mu280.txt',\n",
       " 'gold_train_in_qa_split_with_vsims_GBFS_mu500.attr',\n",
       " 'GBFSt20_mu0_preds.txt',\n",
       " 'boosting_rms_GBFS_mu50.txt',\n",
       " 'boosting_rms_GBFS_mu420.txt',\n",
       " 'feature_scores_GBFSt20_mu12.txt',\n",
       " 'log_GBFSt20_mu90.txt',\n",
       " 'GBFSt20_mu800_preds.txt',\n",
       " 'boosting_rms_GBFS_mu4.txt',\n",
       " 'GBFS_mu8_preds.txt',\n",
       " 'GBFS_mu160_preds.txt',\n",
       " 'feature_scores_GBFS_mu320.txt',\n",
       " 'feature_scores_GBFS_mu10000.txt',\n",
       " 'GBFSt20_mu380_preds.txt',\n",
       " 'boosting_rms_GBFS_mu440.txt',\n",
       " 'boosting_rms_GBFS_mu40.txt',\n",
       " 'boosting_rms_GBFS_mu100.txt',\n",
       " 'gold_train_in_qa_split_with_vsims_GBFS_mu460.attr',\n",
       " 'GBFSt20_mu500_preds.txt',\n",
       " 'GBFS_mu14_preds.txt',\n",
       " 'boosting_rms_GBFS_mu320.txt',\n",
       " 'feature_scores_GBFS_mu1.5.txt',\n",
       " 'log_GBFSt20_mu380.txt',\n",
       " 'log_GBFS_mu540.txt',\n",
       " 'boosting_rms_GBFS_mu460.txt',\n",
       " 'GBFSt20_mu120_preds.txt',\n",
       " 'gold_train_in_qa_split_with_vsims_BTfs.attr',\n",
       " 'GBFSt20_mu10.5_preds.txt',\n",
       " 'feature_scores_GBFSt20_mu2.txt',\n",
       " 'boosting_rms_GBFS_mu580.txt',\n",
       " 'mus2.txt',\n",
       " 'boosting_rms_GBFSt20_mu140.txt',\n",
       " 'boosting_rms_GBFS_mu220.txt',\n",
       " 'gold_train_in_qa_split_with_vsims_GBFS_mu340.attr',\n",
       " 'GBFS_mu4_preds.txt',\n",
       " 'log_GBFSt20_mu600.txt',\n",
       " 'GBFS_mu300_preds.txt',\n",
       " 'log_GBFSt20_mu16.txt',\n",
       " 'gold_train_in_qa_split_with_vsims_GBFS_mu440.attr',\n",
       " 'feature_scores_GBFS_mu460.txt',\n",
       " 'boosting_rms_GBFSt20_mu120.txt',\n",
       " 'log_GBFSt20_mu240.txt',\n",
       " 'gold_train_in_qa_split_with_vsims_GBFS_mu100.attr',\n",
       " 'log_GBFS_mu2.5.txt',\n",
       " 'feature_scores_GBFS_mu380.txt',\n",
       " 'GBFS_mu180_preds.txt',\n",
       " 'boosting_rms_GBFSt20_mu6.txt',\n",
       " 'feature_scores_GBFS_mu160.txt',\n",
       " 'feature_scores_GBFS_mu340.txt',\n",
       " 'boosting_rms_GBFSt20_mu90.txt',\n",
       " 'log_GBFSt20_mu4.txt',\n",
       " 'boosting_rms_GBFS_mu8.txt',\n",
       " 'feature_scores_GBFSt20_mu120.txt',\n",
       " 'boosting_rms_GBFS_mu15.txt',\n",
       " 'feature_scores_GBFSt20_mu2.5.txt',\n",
       " 'gold_train_in_qa_split_with_vsims_GBFS_mu3.attr',\n",
       " 'GBFSt20_mu12_preds.txt',\n",
       " 'boosting_rms_GBFS_mu360.txt',\n",
       " 'boosting_rms_GBFS_mu16.txt',\n",
       " 'boosting_rms_GBFSt20_mu340.txt',\n",
       " 'boosting_rms_GBFS_mu280.txt',\n",
       " 'GBFS_mu380_preds.txt',\n",
       " 'boosting_rms_GBFSt20_mu8.txt',\n",
       " 'log_GBFS_mu12.txt',\n",
       " 'log_GBFSt20_mu580.txt',\n",
       " 'BTt20.bin',\n",
       " 'log_GBFSt20_mu360.txt',\n",
       " 'boosting_rms_GBFS_mu5.txt',\n",
       " 'feature_scores_GBFSt20_mu9.txt',\n",
       " 'boosting_rms_GBFS_mu1.txt',\n",
       " 'feature_scores_GBFSt20_mu40.txt',\n",
       " 'log_GBFS_mu5.txt',\n",
       " 'log_GBFSt20_mu6.txt',\n",
       " 'log_GBFS_mu200.txt',\n",
       " 'gold_train_in_qa_split_with_vsims_GBFS_mu10000.attr',\n",
       " 'boosting_rms_GBFSt20_mu2.txt',\n",
       " 'GBFSt20_mu14_preds.txt',\n",
       " 'GBFS_mu560_preds.txt',\n",
       " 'feature_scores_GBFSt20_mu0.txt',\n",
       " 'gold_train_in_qa_split_with_vsims_GBFS_mu600.attr',\n",
       " 'log_GBFSt20_mu10.txt',\n",
       " 'feature_scores_GBFS_mu12.txt',\n",
       " 'BTt20_preds.txt',\n",
       " 'GBFSt20_mu17_preds.txt',\n",
       " 'GBFSt20_mu420_preds.txt',\n",
       " 'feature_scores_GBFS_mu9.txt',\n",
       " 'GBFS_mu520_preds.txt',\n",
       " 'gold_train_in_qa_split_with_vsims_GBFS_mu280.attr',\n",
       " 'feature_scores_GBFS_mu2.txt',\n",
       " 'log_GBFS_mu1.5.txt',\n",
       " 'log_GBFSt20_mu3.txt',\n",
       " 'gold_train_in_qa_split_with_vsims_GBFS_mu13.attr',\n",
       " 'GBFSt20_mu300_preds.txt',\n",
       " 'log_GBFS_mu9.txt',\n",
       " 'gold_train_in_qa_split_with_vsims_GBFS_mu300.attr',\n",
       " 'feature_scores_GBFSt20_mu100.txt',\n",
       " 'GBFSt20_mu6_preds.txt',\n",
       " 'log_GBFSt20_mu540.txt',\n",
       " 'nohup0.out',\n",
       " 'GBFS_mu420_preds.txt',\n",
       " 'GBFS_mu220_preds.txt',\n",
       " 'gold_train_in_qa_split_with_vsims_GBFS_mu220.attr',\n",
       " 'gold_train_in_qa_split_with_vsims_GBFS_mu480.attr',\n",
       " 'log_GBFSt20_mu50000.txt',\n",
       " 'boosting_rms_GBFSt20_mu180.txt',\n",
       " 'GBFSt20_mu40_preds.txt',\n",
       " 'feature_scores_GBFSt20_mu10.5.txt',\n",
       " 'log_GBFSt20_mu11.txt',\n",
       " 'log_GBFS_mu90.txt',\n",
       " 'log_GBFSt20_mu50.txt',\n",
       " 'feature_scores_GBFS_mu1000.txt',\n",
       " 'feature_scores_GBFSt20_mu220.txt',\n",
       " 'GBFS_mu2_preds.txt',\n",
       " 'feature_scores_GBFSt20_mu300.txt',\n",
       " 'feature_scores_GBFS_mu600.txt',\n",
       " 'feature_scores_GBFSt20_mu30.txt',\n",
       " 'feature_scores_GBFS_mu60.txt',\n",
       " 'feature_scores_GBFSt20_mu10000.txt',\n",
       " 'GBFSt20_mu70_preds.txt',\n",
       " 'GBFS_mu600_preds.txt',\n",
       " 'log_GBFSt20_mu2.txt',\n",
       " 'boosting_rms_GBFS_mu380.txt',\n",
       " 'GBFSt20_mu16_preds.txt',\n",
       " 'boosting_rms_GBFS_mu2.5.txt',\n",
       " 'boosting_rms_GBFSt20_mu480.txt',\n",
       " 'GBFS_mu140_preds.txt',\n",
       " 'boosting_rms_GBFSt20_mu540.txt',\n",
       " 'boosting_rms_GBFSt20_mu80.txt',\n",
       " 'feature_scores_GBFS_mu360.txt',\n",
       " 'log_GBFS_mu18.txt',\n",
       " 'log_GBFSt20_mu19.txt',\n",
       " 'feature_scores_GBFS_mu300.txt',\n",
       " 'gold_train_in_qa_split_with_vsims_GBFS_mu2.5.attr',\n",
       " 'feature_scores_GBFS_mu420.txt',\n",
       " 'boosting_rms_GBFSt20_mu12.txt',\n",
       " 'boosting_rms_GBFSt20_mu17.txt',\n",
       " 'boosting_rms_GBFS_mu120.txt',\n",
       " 'GBFSt20_mu460_preds.txt',\n",
       " 'GBFSt20_mu260_preds.txt',\n",
       " 'boosting_rms_GBFS_mu240.txt',\n",
       " 'GBFS_mu260_preds.txt',\n",
       " 'feature_scores_GBFSt20_mu480.txt',\n",
       " 'boosting_rms_GBFS_mu1.5.txt',\n",
       " 'GBFSt20_mu2_preds.txt',\n",
       " 'log_GBFS_mu240.txt',\n",
       " 'GBFS_mu30_preds.txt',\n",
       " 'boosting_rms_GBFSt20_mu500.txt',\n",
       " 'log_GBFS_mu100.txt',\n",
       " 'feature_scores_GBFSt20_mu19.txt']"
      ]
     },
     "execution_count": 34,
     "metadata": {},
     "output_type": "execute_result"
    }
   ],
   "source": [
    "filenames_result"
   ]
  },
  {
   "cell_type": "code",
   "execution_count": 37,
   "metadata": {},
   "outputs": [],
   "source": [
    "from sklearn.metrics import roc_auc_score"
   ]
  },
  {
   "cell_type": "code",
   "execution_count": 230,
   "metadata": {},
   "outputs": [],
   "source": [
    "class Model:\n",
    "    def __init__(self,name=\"GBDT\",penalty=0,topk=-1,attrN=-1,preds=None):\n",
    "        self.name=name\n",
    "        self.pen=penalty\n",
    "        self.topk=topk\n",
    "        self.preds=preds\n",
    "        self.attrN=attrN\n",
    "        \n",
    "    def get_AUC(self):\n",
    "        return roc_auc_score(trueY,self.preds) if self.preds is not None else None\n",
    "    \n",
    "    #add some other metrics later\n",
    "        \n",
    "        \n",
    "        "
   ]
  },
  {
   "cell_type": "code",
   "execution_count": 231,
   "metadata": {},
   "outputs": [],
   "source": [
    "import collections"
   ]
  },
  {
   "cell_type": "code",
   "execution_count": 232,
   "metadata": {},
   "outputs": [],
   "source": [
    "#store results when go through all files in result folder\n",
    "mus=collections.defaultdict(dict) # store preds,attrN for different mu without selecting the top ranked feature\n",
    "mus_t={}  # store preds for different mu with selecting the top ranked feature\n",
    "BT_preds=None\n",
    "BTt_default_preds=None\n",
    "for filename in filenames_result:\n",
    "    last_dot=filename.rfind(\".\")\n",
    "    fname,fext=filename[:last_dot],filename[last_dot+1:]\n",
    "    if fext==\"txt\":\n",
    "        if \"_preds\" in fname:\n",
    "            preds=pd.read_csv(result_path+filename,header=None)[0]\n",
    "            if \"_mu\" not in fname:\n",
    "                if \"BTt\" in fname:\n",
    "                    BTt_default_preds=preds\n",
    "                else:\n",
    "                    BT_preds=preds\n",
    "            else:\n",
    "                idx=fname.index(\"_mu\")\n",
    "                mu=float(fname[idx+3:-6])\n",
    "                if \"GBFSt\" in fname:\n",
    "                    mus_t[mu]=preds\n",
    "                else:\n",
    "                    mus[mu][\"preds\"]=preds\n",
    "        elif \"feature_scores_GBFS_\" in fname:\n",
    "            tmp=pd.read_csv(result_path+filename,header=None)[0][0] # the first line of feature_score reports attrN\n",
    "            attrN=int(tmp.split()[-1])\n",
    "            idx=fname.index(\"_mu\")\n",
    "            mu=float(fname[idx+3:])\n",
    "            mus[mu][\"attrN\"]=attrN"
   ]
  },
  {
   "cell_type": "code",
   "execution_count": 233,
   "metadata": {},
   "outputs": [],
   "source": [
    "#store results when go through all files in aux_result folder\n",
    "BTt_preds={}\n",
    "GBDTt_preds={}\n",
    "for filename in filenames_aux:\n",
    "    last_dot=filename.rfind(\".\")\n",
    "    fname,fext=filename[:last_dot],filename[last_dot+1:]\n",
    "    if fext==\"txt\" and \"_preds\" in fname:\n",
    "        preds=pd.read_csv(aux_path+filename,header=None)[0]\n",
    "        if \"BTt\" in fname:\n",
    "            topk=int(fname[3:-6])\n",
    "            BTt_preds[topk]=preds\n",
    "        else:\n",
    "            topk=int(fname[5:-6])\n",
    "            GBDTt_preds[topk]=preds"
   ]
  },
  {
   "cell_type": "code",
   "execution_count": 234,
   "metadata": {},
   "outputs": [],
   "source": [
    "model_results=[]\n",
    "# GBFS model\n",
    "for mu in mus:\n",
    "    model_results.append(Model(penalty=mu,attrN=mus[mu][\"attrN\"],preds=mus[mu][\"preds\"]))\n",
    "# GBFSt model\n",
    "for mu in mus_t:\n",
    "    model_results.append(Model(penalty=mu,topk=top_default,attrN=top_default,preds=mus_t[mu]))\n",
    "# BT model\n",
    "model_results.append(Model(name=\"BT\",preds=BT_preds))\n",
    "\n",
    "# BTt model\n",
    "model_results.append(Model(name=\"BT\",topk=top_default,attrN=top_default,preds=BTt_default_preds))\n",
    "for k in BTt_preds:\n",
    "    model_results.append(Model(name=\"BT\",topk=k,attrN=k,preds=BTt_preds[k]))\n",
    "\n",
    "# GBDTt model\n",
    "for k in GBDTt_preds:\n",
    "    model_results.append(Model(topk=k,attrN=k,preds=GBDTt_preds[k]))  \n",
    "    \n",
    " "
   ]
  },
  {
   "cell_type": "code",
   "execution_count": 235,
   "metadata": {},
   "outputs": [],
   "source": [
    "import matplotlib.pyplot as plt"
   ]
  },
  {
   "cell_type": "code",
   "execution_count": null,
   "metadata": {},
   "outputs": [],
   "source": []
  },
  {
   "cell_type": "code",
   "execution_count": 259,
   "metadata": {},
   "outputs": [
    {
     "data": {
      "image/png": "[encoded data removed]",
      "text/plain": [
       "<Figure size 432x288 with 1 Axes>"
      ]
     },
     "metadata": {},
     "output_type": "display_data"
    }
   ],
   "source": [
    "# plot1 AUC v.s. mus for GBFS and GBFSt\n",
    "plt.figure()\n",
    "lw = 2\n",
    "x_axis=sorted(list([ mu for mu in mus.keys() if mu<20]))\n",
    "y1_axis=[roc_auc_score(trueY,mus[x][\"preds\"]) for x in x_axis]\n",
    "y2_axis=[roc_auc_score(trueY,mus_t[x]) for x in x_axis]\n",
    "plt.plot(x_axis, y1_axis, color='darkorange',\n",
    "         lw=lw, label='GBFS')\n",
    "plt.plot(x_axis, y2_axis, color='g',\n",
    "         lw=lw, label=f'GBFSt{top_default}')\n",
    "plt.axhline(y=roc_auc_score(trueY,BT_preds), color='r', linestyle='-',label='BT')\n",
    "plt.axhline(y=roc_auc_score(trueY,BTt_default_preds), color='b', linestyle='--',label=f'BTt{top_default}')\n",
    "plt.xlim([0.0, max(x_axis)])\n",
    "plt.ylim([0.93, 0.95])\n",
    "plt.xlabel('Penalty parameter mu')\n",
    "plt.ylabel('AUC_ROC scores')\n",
    "plt.title(f'AUC_ROC scores v.s. Penalty parameter mu')\n",
    "plt.legend(loc=\"lower right\")\n",
    "plt.show()\n",
    "\n",
    "\n",
    "\n",
    "\n"
   ]
  },
  {
   "cell_type": "code",
   "execution_count": 262,
   "metadata": {},
   "outputs": [
    {
     "data": {
      "text/plain": [
       "[0.0,\n",
       " 0.5,\n",
       " 1.0,\n",
       " 1.5,\n",
       " 2.0,\n",
       " 2.5,\n",
       " 3.0,\n",
       " 4.0,\n",
       " 5.0,\n",
       " 6.0,\n",
       " 7.0,\n",
       " 8.0,\n",
       " 9.0,\n",
       " 10.0,\n",
       " 10.5,\n",
       " 11.0,\n",
       " 12.0,\n",
       " 13.0,\n",
       " 14.0,\n",
       " 15.0,\n",
       " 16.0,\n",
       " 17.0,\n",
       " 18.0,\n",
       " 19.0]"
      ]
     },
     "execution_count": 262,
     "metadata": {},
     "output_type": "execute_result"
    }
   ],
   "source": [
    "x_axis"
   ]
  },
  {
   "cell_type": "code",
   "execution_count": 260,
   "metadata": {},
   "outputs": [
    {
     "data": {
      "text/plain": [
       "0.9451357951357949"
      ]
     },
     "execution_count": 260,
     "metadata": {},
     "output_type": "execute_result"
    }
   ],
   "source": [
    "max(y2_axis)"
   ]
  },
  {
   "cell_type": "code",
   "execution_count": 261,
   "metadata": {},
   "outputs": [
    {
     "data": {
      "text/plain": [
       "0.9407202782202783"
      ]
     },
     "execution_count": 261,
     "metadata": {},
     "output_type": "execute_result"
    }
   ],
   "source": [
    "min(y2_axis)"
   ]
  },
  {
   "cell_type": "code",
   "execution_count": 238,
   "metadata": {},
   "outputs": [
    {
     "data": {
      "image/png": "[encoded data removed]",
      "text/plain": [
       "<Figure size 432x288 with 1 Axes>"
      ]
     },
     "metadata": {},
     "output_type": "display_data"
    }
   ],
   "source": [
    "# plot2 attrN v.s. mus for GBFS\n",
    "plt.figure()\n",
    "lw = 2\n",
    "x_axis=sorted(list([ mu for mu in mus.keys() if mu<20]))\n",
    "y3_axis=[mus[x][\"attrN\"] for x in x_axis]\n",
    "plt.plot(x_axis, y3_axis, color='b',\n",
    "         lw=lw, label='GBFS')\n",
    "plt.xlim([0.0, max(x_axis)])\n",
    "plt.ylim([20, 100])\n",
    "plt.xlabel('Penalty parameter mu')\n",
    "plt.ylabel('Number of active features')\n",
    "plt.title('Number of active features v.s. Penalty parameter mu')\n",
    "plt.legend(loc=\"upper right\")\n",
    "plt.show()\n"
   ]
  },
  {
   "cell_type": "code",
   "execution_count": 243,
   "metadata": {},
   "outputs": [
    {
     "data": {
      "image/png": "[encoded data removed]",
      "text/plain": [
       "<Figure size 432x288 with 1 Axes>"
      ]
     },
     "metadata": {},
     "output_type": "display_data"
    }
   ],
   "source": [
    "# plot3 AUC_ROC v.s. attrN (for best score with the given attrN for GBFSt)\n",
    "\n",
    "BTt=collections.defaultdict(int)\n",
    "GBDTt=collections.defaultdict(int)\n",
    "GBFS=collections.defaultdict(int)\n",
    "for model in model_results:\n",
    "    if model.name==\"BT\" and model.topk>0:\n",
    "        BTt[model.attrN]=max(BTt[model.attrN],model.get_AUC())\n",
    "    elif model.name==\"GBDT\" and model.pen==0 and model.topk>0 :\n",
    "        GBDTt[model.attrN]=max(GBDTt[model.attrN],model.get_AUC())\n",
    "    elif model.name==\"GBDT\" and 0<model.pen<=20 and model.topk==-1: \n",
    "        GBFS[model.attrN]=max(GBFS[model.attrN],model.get_AUC())\n",
    "        \n",
    "plt.figure()\n",
    "lw = 2\n",
    "x1_axis=sorted(list(BTt.keys()))\n",
    "y1_axis=[BTt[x] for x in x1_axis]\n",
    "x2_axis=sorted(list(GBDTt.keys()))\n",
    "y2_axis=[GBDTt[x] for x in x2_axis]\n",
    "x3_axis=sorted(list(GBFS.keys()))\n",
    "y3_axis=[GBFS[x] for x in x3_axis]\n",
    "\n",
    "plt.plot(x1_axis, y1_axis, color='b',\n",
    "         lw=lw, label='BTt',marker=\"o\")\n",
    "plt.plot(x2_axis, y2_axis, color='g',\n",
    "         lw=lw, label='GBDTt',marker=\"o\")\n",
    "plt.plot(x3_axis, y3_axis, color='darkorange',\n",
    "         lw=lw, label='GBFS',marker=\"o\")\n",
    "plt.ylim([0.93, 0.95])\n",
    "plt.xlabel('number of active features')\n",
    "plt.ylabel('AUC_ROC scores')\n",
    "plt.title(f'AUC_ROC scores v.s. number of active features')\n",
    "plt.legend(loc=\"lower right\")\n",
    "plt.show()\n"
   ]
  },
  {
   "cell_type": "code",
   "execution_count": 251,
   "metadata": {},
   "outputs": [
    {
     "data": {
      "text/plain": [
       "0.9473490848490848"
      ]
     },
     "execution_count": 251,
     "metadata": {},
     "output_type": "execute_result"
    }
   ],
   "source": [
    "max(GBDTt.values())"
   ]
  },
  {
   "cell_type": "code",
   "execution_count": 252,
   "metadata": {},
   "outputs": [
    {
     "data": {
      "text/plain": [
       "0.9428936303936305"
      ]
     },
     "execution_count": 252,
     "metadata": {},
     "output_type": "execute_result"
    }
   ],
   "source": [
    "min(GBDTt.values())"
   ]
  },
  {
   "cell_type": "code",
   "execution_count": 249,
   "metadata": {},
   "outputs": [
    {
     "data": {
      "text/plain": [
       "0.9402504402504402"
      ]
     },
     "execution_count": 249,
     "metadata": {},
     "output_type": "execute_result"
    }
   ],
   "source": [
    "roc_auc_score(trueY,BT_preds)"
   ]
  },
  {
   "cell_type": "code",
   "execution_count": 250,
   "metadata": {},
   "outputs": [
    {
     "data": {
      "text/plain": [
       "0.9382292632292634"
      ]
     },
     "execution_count": 250,
     "metadata": {},
     "output_type": "execute_result"
    }
   ],
   "source": []
  },
  {
   "cell_type": "code",
   "execution_count": null,
   "metadata": {},
   "outputs": [],
   "source": []
  }
 ],
 "metadata": {
  "kernelspec": {
   "display_name": "Python 3",
   "language": "python",
   "name": "python3"
  },
  "language_info": {
   "codemirror_mode": {
    "name": "ipython",
    "version": 3
   },
   "file_extension": ".py",
   "mimetype": "text/x-python",
   "name": "python",
   "nbconvert_exporter": "python",
   "pygments_lexer": "ipython3",
   "version": "3.6.5"
  }
 },
 "nbformat": 4,
 "nbformat_minor": 2
}
