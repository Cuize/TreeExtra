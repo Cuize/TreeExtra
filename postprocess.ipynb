{
 "cells": [
  {
   "cell_type": "code",
   "execution_count": 39,
   "metadata": {},
   "outputs": [],
   "source": [
    "import pandas as pd\n",
    "import numpy as np\n",
    "trueY=pd.read_csv(\"result/trueY.txt\",header=None)[0]"
   ]
  },
  {
   "cell_type": "code",
   "execution_count": 40,
   "metadata": {},
   "outputs": [],
   "source": [
    "GBFS_mu10_preds=pd.read_csv(\"result/GBFS_mu10_preds.txt\",header=None)[0]"
   ]
  },
  {
   "cell_type": "code",
   "execution_count": 46,
   "metadata": {},
   "outputs": [],
   "source": [
    "BT_preds=pd.read_csv(\"result/BT_preds.txt\",header=None)[0]"
   ]
  },
  {
   "cell_type": "code",
   "execution_count": 48,
   "metadata": {},
   "outputs": [],
   "source": [
    "GBFS_mu50_preds=pd.read_csv(\"result/GBFS_mu50_preds.txt\",header=None)[0]"
   ]
  },
  {
   "cell_type": "code",
   "execution_count": 50,
   "metadata": {},
   "outputs": [],
   "source": [
    "GBFS_mu0_preds=pd.read_csv(\"result/GBFS_mu0_preds.txt\",header=None)[0]"
   ]
  },
  {
   "cell_type": "code",
   "execution_count": 44,
   "metadata": {},
   "outputs": [],
   "source": [
    "from sklearn.metrics import roc_auc_score"
   ]
  },
  {
   "cell_type": "code",
   "execution_count": 45,
   "metadata": {},
   "outputs": [
    {
     "data": {
      "text/plain": [
       "0.9440926565926566"
      ]
     },
     "execution_count": 45,
     "metadata": {},
     "output_type": "execute_result"
    }
   ],
   "source": [
    "roc_auc_score(trueY,GBFS_mu10_preds)"
   ]
  },
  {
   "cell_type": "code",
   "execution_count": 47,
   "metadata": {},
   "outputs": [
    {
     "data": {
      "text/plain": [
       "0.9407748032748033"
      ]
     },
     "execution_count": 47,
     "metadata": {},
     "output_type": "execute_result"
    }
   ],
   "source": [
    "roc_auc_score(trueY,BT_preds)"
   ]
  },
  {
   "cell_type": "code",
   "execution_count": 49,
   "metadata": {},
   "outputs": [
    {
     "data": {
      "text/plain": [
       "0.9382335007335006"
      ]
     },
     "execution_count": 49,
     "metadata": {},
     "output_type": "execute_result"
    }
   ],
   "source": [
    "roc_auc_score(trueY,GBFS_mu50_preds)"
   ]
  },
  {
   "cell_type": "code",
   "execution_count": 51,
   "metadata": {},
   "outputs": [
    {
     "data": {
      "text/plain": [
       "0.9449178449178449"
      ]
     },
     "execution_count": 51,
     "metadata": {},
     "output_type": "execute_result"
    }
   ],
   "source": [
    "roc_auc_score(trueY,GBFS_mu0_preds)"
   ]
  },
  {
   "cell_type": "code",
   "execution_count": 52,
   "metadata": {},
   "outputs": [],
   "source": [
    "from os import listdir\n",
    "from os.path import isfile, join\n",
    "filenames = [f for f in listdir(\"result/\") if isfile(join(\"result/\", f))]"
   ]
  },
  {
   "cell_type": "code",
   "execution_count": 55,
   "metadata": {},
   "outputs": [],
   "source": [
    "AUCs={}\n",
    "for filename in filenames:\n",
    "    stem,ext=filename.split(\".\")\n",
    "    if ext==\"txt\" and stem[-5:]==\"preds\":\n",
    "        preds=pd.read_csv(f\"result/{filename}\",header=None)[0]\n",
    "        AUCs[stem]=roc_auc_score(trueY,preds)\n",
    "\n",
    "\n"
   ]
  },
  {
   "cell_type": "code",
   "execution_count": 57,
   "metadata": {},
   "outputs": [
    {
     "data": {
      "text/plain": [
       "{'GBFSt20_mu1000_preds': 0.9406169281169281,\n",
       " 'GBFSt20_mu200_preds': 0.9389563889563891,\n",
       " 'GBFS_mu1_preds': 0.9454314079314081,\n",
       " 'GBFS_mu200_preds': 0.9403493653493654,\n",
       " 'GBFSt20_mu50_preds': 0.9399706524706525,\n",
       " 'GBFS_mu50_preds': 0.9382335007335006,\n",
       " 'GBFS_mu100_preds': 0.938422725922726,\n",
       " 'GBFSt20_mu10_preds': 0.9415687915687916,\n",
       " 'GBFS_mu1000_preds': 0.9450661575661576,\n",
       " 'GBFS_mu0_preds': 0.9449178449178449,\n",
       " 'GBFS_mu10_preds': 0.9440926565926566,\n",
       " 'BT_preds': 0.9407748032748033,\n",
       " 'GBFSt20_mu10000_preds': 0.9401567651567653,\n",
       " 'GBFSt20_mu1_preds': 0.94253198003198,\n",
       " 'GBFS_mu10000_preds': 0.9443019443019444,\n",
       " 'GBFS_mu500_preds': 0.9383589383589382,\n",
       " 'GBFSt20_mu100_preds': 0.9408739533739533,\n",
       " 'GBFSt20_mu0_preds': 0.9430501180501181,\n",
       " 'GBFSt20_mu500_preds': 0.9347014847014848,\n",
       " 'BTt20_preds': 0.937510125010125}"
      ]
     },
     "execution_count": 57,
     "metadata": {},
     "output_type": "execute_result"
    }
   ],
   "source": [
    "AUCs"
   ]
  },
  {
   "cell_type": "code",
   "execution_count": 58,
   "metadata": {},
   "outputs": [
    {
     "data": {
      "text/plain": [
       "['feature_scores_BTt20.txt',\n",
       " 'gold_train_in_qa_split_with_vsims_GBFS_mu200.attr',\n",
       " 'GBFSt20_mu1000_preds.txt',\n",
       " 'feature_scores_GBFSt20_mu200.txt',\n",
       " 'gold_train_in_qa_split_with_vsims_GBFS_mu10.attr',\n",
       " 'GBFSt20_mu200_preds.txt',\n",
       " 'BT.bin',\n",
       " 'gold_train_in_qa_split_with_vsims_GBFS_mu1.attr',\n",
       " 'gold_test_in_qa_split.dta',\n",
       " 'feature_scores_GBFSt20_mu500.txt',\n",
       " 'GBFS_mu1_preds.txt',\n",
       " 'GBFS_mu200_preds.txt',\n",
       " 'trueY.txt',\n",
       " 'preprocess_unused.txt',\n",
       " 'GBFSt20_mu50_preds.txt',\n",
       " 'gold_train_in_qa_split_with_vsims.dta',\n",
       " 'GBFS_mu50_preds.txt',\n",
       " 'feature_scores_GBFSt20_mu10.txt',\n",
       " 'GBFS_mu100_preds.txt',\n",
       " 'GBFSt20_mu10_preds.txt',\n",
       " 'gold_train_in_qa_split_with_vsims.attr',\n",
       " 'GBFS_mu1000_preds.txt',\n",
       " 'feature_scores_GBFSt20_mu50.txt',\n",
       " 'GBFS_mu0_preds.txt',\n",
       " 'gold_train_in_qa_split_with_vsims_GBFS_mu50.attr',\n",
       " 'gold_train_in_qa_split_with_vsims_GBFS_mu0.attr',\n",
       " 'GBFS_mu10_preds.txt',\n",
       " 'BT_preds.txt',\n",
       " 'feature_scores_GBFSt20_mu1.txt',\n",
       " 'GBFSt20_mu10000_preds.txt',\n",
       " 'GBFSt20_mu1_preds.txt',\n",
       " 'feature_scores_GBFSt20_mu1000.txt',\n",
       " 'GBFS_mu10000_preds.txt',\n",
       " 'gold_train_in_qa_split_with_vsims_GBFS_mu1000.attr',\n",
       " 'GBFS_mu500_preds.txt',\n",
       " 'GBFSt20_mu100_preds.txt',\n",
       " 'gold_train_in_qa_split_with_vsims_GBFS_mu500.attr',\n",
       " 'GBFSt20_mu0_preds.txt',\n",
       " 'GBFSt20_mu500_preds.txt',\n",
       " 'gold_train_in_qa_split_with_vsims_BTfs.attr',\n",
       " 'gold_train_in_qa_split_with_vsims_GBFS_mu100.attr',\n",
       " 'BTt20.bin',\n",
       " 'gold_train_in_qa_split_with_vsims_GBFS_mu10000.attr',\n",
       " 'feature_scores_GBFSt20_mu0.txt',\n",
       " 'BTt20_preds.txt',\n",
       " 'feature_scores_GBFSt20_mu100.txt',\n",
       " 'feature_scores_GBFSt20_mu10000.txt']"
      ]
     },
     "execution_count": 58,
     "metadata": {},
     "output_type": "execute_result"
    }
   ],
   "source": [
    "filenames"
   ]
  },
  {
   "cell_type": "code",
   "execution_count": null,
   "metadata": {},
   "outputs": [],
   "source": []
  },
  {
   "cell_type": "code",
   "execution_count": null,
   "metadata": {},
   "outputs": [],
   "source": []
  }
 ],
 "metadata": {
  "kernelspec": {
   "display_name": "Python 3",
   "language": "python",
   "name": "python3"
  },
  "language_info": {
   "codemirror_mode": {
    "name": "ipython",
    "version": 3
   },
   "file_extension": ".py",
   "mimetype": "text/x-python",
   "name": "python",
   "nbconvert_exporter": "python",
   "pygments_lexer": "ipython3",
   "version": "3.6.5"
  }
 },
 "nbformat": 4,
 "nbformat_minor": 2
}
